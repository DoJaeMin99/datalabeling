{
 "cells": [
  {
   "cell_type": "code",
   "execution_count": 2,
   "id": "18942061",
   "metadata": {},
   "outputs": [],
   "source": [
    "import os\n",
    "import shutil\n",
    "\n",
    "source_directory = r'C:\\Users\\korea\\Desktop\\새 폴더 (3)'\n",
    "destination_directory = r'D:\\데이터모음\\Datalabeling\\images'\n",
    "\n",
    "for filename in os.listdir(source_directory):\n",
    "    if filename.endswith('.xml'):\n",
    "        source_file = os.path.join(source_directory, filename)\n",
    "        destination_file = os.path.join(destination_directory, filename)\n",
    "        shutil.move(source_file, destination_file)\n"
   ]
  },
  {
   "cell_type": "code",
   "execution_count": 5,
   "id": "5328c2be",
   "metadata": {},
   "outputs": [],
   "source": [
    "import os\n",
    "\n",
    "directory = r'C:\\Users\\korea\\Desktop\\새 폴더 (3)'\n",
    "prefix = 'image_'\n",
    "start_number = 0\n",
    "\n",
    "number = start_number\n",
    "\n",
    "for filename in os.listdir(directory):\n",
    "    if filename.endswith('.png'):\n",
    "        new_filename = prefix + str(number) + '.png'\n",
    "        new_filepath = os.path.join(directory, new_filename)\n",
    "        os.rename(os.path.join(directory, filename), new_filepath)\n",
    "        number += 1\n"
   ]
  },
  {
   "cell_type": "code",
   "execution_count": 14,
   "id": "ce8bf574",
   "metadata": {},
   "outputs": [],
   "source": [
    "import os\n",
    "import xml.etree.ElementTree as ET\n",
    "\n",
    "# XML 파일이 있는 폴더 경로\n",
    "folder_path = r'C:\\Users\\korea\\Desktop\\test'\n",
    "\n",
    "# 폴더 내 모든 XML 파일에 대해 작업 수행\n",
    "for file_name in os.listdir(folder_path):\n",
    "    if file_name.endswith('.xml'):\n",
    "        # XML 파일 경로\n",
    "        xml_file = os.path.join(folder_path, file_name)\n",
    "\n",
    "        # XML 파일의 기존 파일명 가져오기\n",
    "        current_filename = os.path.splitext(os.path.basename(xml_file))[0]\n",
    "\n",
    "        # 변경할 파일명 생성\n",
    "        new_filename = current_filename + '.jpg'\n",
    "\n",
    "        # 변경할 경로 생성\n",
    "        new_path = r'D:\\도재민\\PANEL\\\\' + new_filename\n",
    "\n",
    "        # XML 파일 열기\n",
    "        tree = ET.parse(xml_file)\n",
    "        root = tree.getroot()\n",
    "\n",
    "        # <filename> 태그 찾기\n",
    "        filename_tag = root.find('filename')\n",
    "\n",
    "        # 파일명 수정\n",
    "        filename_tag.text = new_filename\n",
    "\n",
    "        # <path> 태그 찾기\n",
    "        path_tag = root.find('path')\n",
    "\n",
    "        # 경로 수정\n",
    "        path_tag.text = new_path\n",
    "\n",
    "        # XML 파일 저장\n",
    "        tree.write(xml_file)\n"
   ]
  },
  {
   "cell_type": "code",
   "execution_count": null,
   "id": "efb60a3a",
   "metadata": {},
   "outputs": [],
   "source": []
  }
 ],
 "metadata": {
  "kernelspec": {
   "display_name": "Python 3 (ipykernel)",
   "language": "python",
   "name": "python3"
  },
  "language_info": {
   "codemirror_mode": {
    "name": "ipython",
    "version": 3
   },
   "file_extension": ".py",
   "mimetype": "text/x-python",
   "name": "python",
   "nbconvert_exporter": "python",
   "pygments_lexer": "ipython3",
   "version": "3.9.16"
  }
 },
 "nbformat": 4,
 "nbformat_minor": 5
}
